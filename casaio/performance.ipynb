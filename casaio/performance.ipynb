{
 "cells": [
  {
   "cell_type": "code",
   "execution_count": 5,
   "id": "87e803be-c2e1-42b8-ba40-77a523e216ae",
   "metadata": {
    "ExecuteTime": {
     "end_time": "2025-05-20T21:44:59.117697Z",
     "start_time": "2025-05-20T21:44:58.389033Z"
    }
   },
   "outputs": [],
   "source": [
    "import time\n",
    "import toolviper\n",
    "\n",
    "import numpy as np\n",
    "import matplotlib.pyplot as plt\n",
    "\n",
    "from casaio.io.table import Table\n",
    "from casacore.tables import table"
   ]
  },
  {
   "cell_type": "code",
   "execution_count": 6,
   "id": "83d3f32d-e22b-4bec-bef2-cc1efcdc328e",
   "metadata": {},
   "outputs": [
    {
     "name": "stdout",
     "output_type": "stream",
     "text": [
      "[\u001b[38;2;128;05;128m2025-06-03 13:36:00,313\u001b[0m] \u001b[38;2;255;160;0m WARNING\u001b[0m\u001b[38;2;112;128;144m    viperlog: \u001b[0m File exists: \u001b[38;2;50;50;205m/home/mystletainn/miniconda3/envs/casaio/lib/python3.10/site-packages/toolviper/utils/data/.dropbox\u001b[0m \n",
      "[\u001b[38;2;128;05;128m2025-06-03 13:36:00,315\u001b[0m] \u001b[38;2;50;50;205m    INFO\u001b[0m\u001b[38;2;112;128;144m    viperlog: \u001b[0m Updating file metadata information ...  \n",
      " "
     ]
    },
    {
     "data": {
      "text/html": [
       "<pre style=\"white-space:pre;overflow-x:auto;line-height:normal;font-family:Menlo,'DejaVu Sans Mono',consolas,'Courier New',monospace\">                                                                \n",
       " <span style=\"font-weight: bold\"> Download List                                                </span> \n",
       " ────────────────────────────────────────────────────────────── \n",
       "  <span style=\"color: #800080; text-decoration-color: #800080\">VLASS3.2.sb45755730.eb46170641.60480.16266136574.split.v6.ms</span>  \n",
       "                                                                \n",
       "</pre>\n"
      ],
      "text/plain": [
       "                                                                \n",
       " \u001b[1m \u001b[0m\u001b[1mDownload List                                               \u001b[0m\u001b[1m \u001b[0m \n",
       " ────────────────────────────────────────────────────────────── \n",
       "  \u001b[35mVLASS3.2.sb45755730.eb46170641.60480.16266136574.split.v6.ms\u001b[0m  \n",
       "                                                                \n"
      ]
     },
     "metadata": {},
     "output_type": "display_data"
    },
    {
     "name": "stdout",
     "output_type": "stream",
     "text": [
      "[\u001b[38;2;128;05;128m2025-06-03 13:36:01,261\u001b[0m] \u001b[38;2;50;50;205m    INFO\u001b[0m\u001b[38;2;112;128;144m    viperlog: \u001b[0m File exists: data/VLASS3.2.sb45755730.eb46170641.60480.16266136574.split.v6.ms \n"
     ]
    }
   ],
   "source": [
    "toolviper.utils.data.download(file=\"VLASS3.2.sb45755730.eb46170641.60480.16266136574.split.v6.ms\", folder=\"data\")"
   ]
  },
  {
   "cell_type": "code",
   "execution_count": 7,
   "id": "323a8841de81c65f",
   "metadata": {
    "ExecuteTime": {
     "end_time": "2025-05-20T21:45:01.125022Z",
     "start_time": "2025-05-20T21:45:01.119935Z"
    }
   },
   "outputs": [],
   "source": [
    "times = []"
   ]
  },
  {
   "cell_type": "code",
   "execution_count": 8,
   "id": "b5e66b24-30c7-4fb4-a211-36836d4b8eb5",
   "metadata": {},
   "outputs": [
    {
     "name": "stdout",
     "output_type": "stream",
     "text": [
      "Successful readonly open of default-locked table data/VLASS3.2.sb45755730.eb46170641.60480.16266136574.split.v6.ms: 22 columns, 294144 rows\n",
      "Time to load full table: 0.0023272037506103516\n"
     ]
    }
   ],
   "source": [
    "start_time = time.time()\n",
    "\n",
    "ctable = table(\"data/VLASS3.2.sb45755730.eb46170641.60480.16266136574.split.v6.ms\")\n",
    "c = ctable.col(\"UVW\")\n",
    "\n",
    "times.append(time.time() - start_time)\n",
    "print(f\"Time to load full table: {times[0]}\")"
   ]
  },
  {
   "cell_type": "code",
   "execution_count": 3,
   "id": "256d7958-5181-4745-aa3d-158dc512532e",
   "metadata": {
    "ExecuteTime": {
     "end_time": "2025-05-20T21:49:46.514119Z",
     "start_time": "2025-05-20T21:49:46.503121Z"
    }
   },
   "outputs": [
    {
     "name": "stdout",
     "output_type": "stream",
     "text": [
      "type: 8\n"
     ]
    }
   ],
   "source": [
    "time_array = []\n",
    "\n",
    "for _ in range(1):\n",
    "    start_time = time.time()\n",
    "    \n",
    "    table = Table(basename=\"data/VLASS3.2.sb45755730.eb46170641.60480.16266136574.split.v6.ms\")\n",
    "    #data = table.get_column(name=\"DATA_DESC_ID\")\n",
    "    data = table.get_column(name=\"UVW\")\n",
    "\n",
    "    time_array.append(time.time() - start_time)\n",
    "\n",
    "times.append(np.array(time_array).mean())\n",
    "#print(f\"Time to load full table: {times[1]}\")"
   ]
  },
  {
   "cell_type": "code",
   "execution_count": 15,
   "id": "6ee8e152-ec24-4af2-96d0-4ef082e67850",
   "metadata": {},
   "outputs": [
    {
     "data": {
      "text/plain": [
       "array([[ 2708.69428468, -2686.08242022,  -454.9637488 ],\n",
       "       [ 2520.43188982,  -323.60450958,  -613.47252536],\n",
       "       [ 3119.06675893, -4276.34069972,  -422.76474305],\n",
       "       ...,\n",
       "       [    0.        ,     0.        ,     0.        ],\n",
       "       [    0.        ,     0.        ,     0.        ],\n",
       "       [    0.        ,     0.        ,     0.        ]])"
      ]
     },
     "execution_count": 15,
     "metadata": {},
     "output_type": "execute_result"
    }
   ],
   "source": [
    "data[0].reshape(305816, 3)"
   ]
  },
  {
   "cell_type": "code",
   "execution_count": null,
   "id": "509884fb-542c-485a-9e27-2f695c20307c",
   "metadata": {},
   "outputs": [],
   "source": [
    "table.get_column_description(view=True)"
   ]
  },
  {
   "cell_type": "code",
   "execution_count": null,
   "id": "4f2a8fad12cef4dc",
   "metadata": {
    "ExecuteTime": {
     "end_time": "2025-05-20T21:48:39.099710Z",
     "start_time": "2025-05-20T21:48:39.096505Z"
    }
   },
   "outputs": [],
   "source": [
    "#arr = np.array([np.frombuffer(d, dtype=np.int32) for d in data])"
   ]
  },
  {
   "cell_type": "code",
   "execution_count": null,
   "id": "0b769116-353a-49bd-b14e-0badc036641f",
   "metadata": {},
   "outputs": [],
   "source": [
    "time_array = []\n",
    "\n",
    "for i in range(100):\n",
    "    start_time = time.time()\n",
    "\n",
    "    data = table.get_column(name=\"DATA\")\n",
    "\n",
    "    time_array.append(time.time() - start_time)\n",
    "\n",
    "times.append(np.array(time_array).mean())\n",
    "print(f\"Time to load cached column: {times[2]}\")"
   ]
  },
  {
   "cell_type": "code",
   "execution_count": null,
   "id": "fcdccfde-6d6b-40e2-92a9-e23db0150ea6",
   "metadata": {},
   "outputs": [],
   "source": [
    "fig, ax = plt.subplots()\n",
    "\n",
    "labels = [\"python-casacore\", \"casaio\", \"casaio-cached\"]\n",
    "bar_labels = [\"cpy-cc\", \"cio\", \"cio-cached\"]\n",
    "bar_colors = [\"tab:red\", \"tab:blue\", \"tab:orange\"]\n",
    "\n",
    "\n",
    "ax.bar(labels, times, label=bar_labels, color=bar_colors)\n",
    "\n",
    "ax.set_ylabel('Execution Time (s)')\n",
    "ax.set_title('Comparison of DATA column query times')\n",
    "\n",
    "plt.show()"
   ]
  },
  {
   "cell_type": "code",
   "execution_count": null,
   "id": "f449f914-16ce-4170-8df0-139fbac5c930",
   "metadata": {},
   "outputs": [],
   "source": [
    "table = Table(basename=\"data/VLASS3.2.sb45755730.eb46170641.60480.16266136574.split.v6.ms\")\n",
    "data = table.get_column(name=\"FLAG\")"
   ]
  },
  {
   "cell_type": "code",
   "execution_count": null,
   "id": "47977e1f-4a43-4939-8add-b2c3331c26f4",
   "metadata": {},
   "outputs": [],
   "source": [
    "d = data[1]\n",
    "d.shape"
   ]
  },
  {
   "cell_type": "code",
   "execution_count": null,
   "id": "3cd99360-d0e9-4904-bae3-37bcedcc7d76",
   "metadata": {},
   "outputs": [],
   "source": [
    "np.array(c.getshapestring()).shape"
   ]
  },
  {
   "cell_type": "code",
   "execution_count": null,
   "id": "cff70a32-2723-47e5-b7bf-2b1e7b884916",
   "metadata": {},
   "outputs": [],
   "source": [
    "3*4*294144"
   ]
  },
  {
   "cell_type": "code",
   "execution_count": null,
   "id": "2a7a30c3-cfb3-4efd-9cbd-e82b672401a5",
   "metadata": {},
   "outputs": [],
   "source": [
    "3*4*87381"
   ]
  },
  {
   "cell_type": "code",
   "execution_count": null,
   "id": "924e5874-540a-4397-b936-7cf88405585f",
   "metadata": {},
   "outputs": [],
   "source": [
    "D = d.view(dtype=int)\n",
    "dist = {}\n",
    "\n",
    "for i in d:\n",
    "    if i in dist.keys():\n",
    "        dist[i] +=1\n",
    "\n",
    "    else:\n",
    "        dist[i] = 1"
   ]
  },
  {
   "cell_type": "code",
   "execution_count": null,
   "id": "cad4b249-fd3f-4ef4-af5e-b802e842257c",
   "metadata": {},
   "outputs": [],
   "source": [
    "dist"
   ]
  },
  {
   "cell_type": "code",
   "execution_count": null,
   "id": "c4f3d2df-3168-41a3-9c64-0459a456d7ef",
   "metadata": {},
   "outputs": [],
   "source": [
    "4*3*87381"
   ]
  },
  {
   "cell_type": "code",
   "execution_count": null,
   "id": "54fd0ee6-d5cd-4a7b-b92f-d122e7d6e213",
   "metadata": {},
   "outputs": [],
   "source": [
    "2*524288"
   ]
  },
  {
   "cell_type": "code",
   "execution_count": null,
   "id": "750c549f-3834-4621-a13e-2b267221db64",
   "metadata": {},
   "outputs": [],
   "source": [
    "524288*4"
   ]
  },
  {
   "cell_type": "code",
   "execution_count": null,
   "id": "01fccc54-2df7-4f87-be47-bc59e1dbb91f",
   "metadata": {},
   "outputs": [],
   "source": [
    "4*3*(294144)"
   ]
  },
  {
   "cell_type": "code",
   "execution_count": null,
   "id": "82b61692-17de-4790-b48f-57ea26b3821a",
   "metadata": {},
   "outputs": [],
   "source": []
  }
 ],
 "metadata": {
  "kernelspec": {
   "display_name": "Python 3 (ipykernel)",
   "language": "python",
   "name": "python3"
  },
  "language_info": {
   "codemirror_mode": {
    "name": "ipython",
    "version": 3
   },
   "file_extension": ".py",
   "mimetype": "text/x-python",
   "name": "python",
   "nbconvert_exporter": "python",
   "pygments_lexer": "ipython3",
   "version": "3.10.15"
  }
 },
 "nbformat": 4,
 "nbformat_minor": 5
}
