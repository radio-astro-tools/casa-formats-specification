{
 "cells": [
  {
   "cell_type": "code",
   "execution_count": 1,
   "id": "87e803be-c2e1-42b8-ba40-77a523e216ae",
   "metadata": {},
   "outputs": [],
   "source": [
    "import time\n",
    "import toolviper\n",
    "\n",
    "import numpy as np\n",
    "import matplotlib.pyplot as plt\n",
    "\n",
    "from casaio.io.table import Table\n",
    "from casacore.tables import table"
   ]
  },
  {
   "cell_type": "code",
   "execution_count": null,
   "id": "83d3f32d-e22b-4bec-bef2-cc1efcdc328e",
   "metadata": {},
   "outputs": [],
   "source": [
    "toolviper.utils.data.download(file=\"VLASS3.2.sb45755730.eb46170641.60480.16266136574.split.v6.ms\", folder=\"data\")"
   ]
  },
  {
   "cell_type": "code",
   "execution_count": 2,
   "id": "b5e66b24-30c7-4fb4-a211-36836d4b8eb5",
   "metadata": {},
   "outputs": [
    {
     "name": "stdout",
     "output_type": "stream",
     "text": [
      "Successful readonly open of default-locked table data/VLASS3.2.sb45755730.eb46170641.60480.16266136574.split.v6.ms: 22 columns, 294144 rows\n",
      "Time to load full table: 0.008263587951660156\n"
     ]
    }
   ],
   "source": [
    "times = []\n",
    "\n",
    "start_time = time.time()\n",
    "\n",
    "ctable = table(\"data/VLASS3.2.sb45755730.eb46170641.60480.16266136574.split.v6.ms\")\n",
    "c = ctable.col(\"DATA\")\n",
    "\n",
    "times.append(time.time() - start_time)\n",
    "print(f\"Time to load full table: {times[0]}\")"
   ]
  },
  {
   "cell_type": "code",
   "execution_count": 5,
   "id": "256d7958-5181-4745-aa3d-158dc512532e",
   "metadata": {},
   "outputs": [
    {
     "name": "stdout",
     "output_type": "stream",
     "text": [
      "Time to load full table: 0.014132499694824219\n"
     ]
    }
   ],
   "source": [
    "time_array = []\n",
    "\n",
    "for _ in range(100):\n",
    "    start_time = time.time()\n",
    "    \n",
    "    table = Table(basename=\"data/VLASS3.2.sb45755730.eb46170641.60480.16266136574.split.v6.ms\")\n",
    "    data = table.get_column(name=\"DATA\")\n",
    "\n",
    "    time_array.append(time.time() - start_time)\n",
    "\n",
    "times.append(np.array(time_array).mean())\n",
    "print(f\"Time to load full table: {times[1]}\")"
   ]
  },
  {
   "cell_type": "code",
   "execution_count": 7,
   "id": "0b769116-353a-49bd-b14e-0badc036641f",
   "metadata": {},
   "outputs": [
    {
     "name": "stdout",
     "output_type": "stream",
     "text": [
      "Time to load cached column: 0.0061841273307800294\n"
     ]
    }
   ],
   "source": [
    "time_array = []\n",
    "\n",
    "for i in range(100):\n",
    "    start_time = time.time()\n",
    "\n",
    "    data = table.get_column(name=\"DATA\")\n",
    "\n",
    "    time_array.append(time.time() - start_time)\n",
    "\n",
    "times.append(np.array(time_array).mean())\n",
    "print(f\"Time to load cached column: {times[2]}\")"
   ]
  },
  {
   "cell_type": "code",
   "execution_count": 9,
   "id": "3c3644b6-f1ae-4953-b5d9-d6360b30c185",
   "metadata": {},
   "outputs": [
    {
     "data": {
      "text/plain": [
       "{1: array([[[ 7.3488884e-02+5.25686666e-02j,  4.4555743e-03+7.84645788e-03j,\n",
       "           9.2962189e-03+2.39176303e-03j, ...,\n",
       "           1.0191374e-02-5.70804812e-03j, -4.4126497e-03+2.10389751e-03j,\n",
       "           8.5880654e-03-3.43286269e-03j],\n",
       "         [ 7.3565086e-03+3.84551613e-03j, -2.6445631e-03-2.67913775e-03j,\n",
       "           7.1006012e-03+3.15537094e-03j, ...,\n",
       "          -2.6614866e-03+3.79486196e-03j,  1.4643735e-03-6.72741153e-04j,\n",
       "          -6.6105607e-03-6.97790552e-03j],\n",
       "         [ 5.9907450e-03-6.79814140e-04j, -2.5543449e-03-1.03044941e-03j,\n",
       "           4.5598131e-03+1.57886732e-03j, ...,\n",
       "          -2.0875467e-03+9.66691040e-03j, -4.4779843e-03-2.26807618e-03j,\n",
       "           9.0212431e-03+4.36785957e-03j]],\n",
       " \n",
       "        [[ 1.1091148e-02+1.63708755e-03j,  1.3580914e-03+1.06401686e-02j,\n",
       "           2.0783670e-04-2.46795453e-03j, ...,\n",
       "          -3.0215419e-04+1.54078437e-03j,  4.3676458e-03+2.28793267e-03j,\n",
       "          -5.4921890e-03-2.80591962e-03j],\n",
       "         [ 7.5932749e-04+3.68063804e-04j, -9.6349623e-03+6.17518963e-04j,\n",
       "          -1.3917523e-03+2.97380658e-03j, ...,\n",
       "           7.0605432e-03-9.70059598e-04j,  7.8329799e-04-8.40712280e-04j,\n",
       "          -2.7235793e-03-3.89205641e-03j],\n",
       "         [-6.4526983e-03-5.44105703e-03j,  9.5008742e-03+8.04450887e-04j,\n",
       "           3.9373054e-03-2.31135474e-03j, ...,\n",
       "          -9.7424425e-03+8.15492403e-03j,  3.1730856e-03-1.83888315e-03j,\n",
       "          -9.3730744e-03+1.75976823e-03j]],\n",
       " \n",
       "        [[-5.2737695e-04+6.21769251e-03j,  4.3635163e-03+3.51540791e-03j,\n",
       "           3.8136984e-04-3.22668487e-03j, ...,\n",
       "           8.6052797e-04+5.28424885e-03j,  3.2880015e-03-3.61186150e-03j,\n",
       "           7.6811234e-03+9.60013643e-03j],\n",
       "         [-1.3204146e-03+8.19622353e-03j,  6.2836014e-04+1.01482337e-02j,\n",
       "          -4.6522901e-03+3.31871258e-03j, ...,\n",
       "           2.3139236e-03+1.88965269e-03j, -3.5248033e-03-2.34808307e-03j,\n",
       "           1.0687190e-02+6.33609015e-03j],\n",
       "         [ 4.5605572e-03-1.29800579e-02j, -4.1003358e-03+3.44000850e-03j,\n",
       "          -2.5644638e-03+5.88558335e-03j, ...,\n",
       "          -1.9545336e-03+1.24361808e-03j, -2.4909043e-04-1.29866805e-02j,\n",
       "           1.0648325e-02-1.42616942e-03j]],\n",
       " \n",
       "        [[ 2.0558019e-03-6.15569297e-03j, -4.9118185e-04+1.91210376e-04j,\n",
       "          -1.8138411e-03-1.51727931e-03j, ...,\n",
       "           7.8998376e-03-5.06815035e-03j,  5.9723030e-03-5.94142871e-03j,\n",
       "           5.0258299e-04-3.89889954e-03j],\n",
       "         [-3.1748924e-03+4.55441372e-03j, -5.3269137e-03-4.78603505e-03j,\n",
       "          -1.1470205e-03-1.21677443e-02j, ...,\n",
       "          -4.5479229e-03+5.36865206e-04j, -7.5253798e-03-3.69618501e-04j,\n",
       "          -7.6192891e-06-8.25983845e-03j],\n",
       "         [ 9.1528790e-03+8.01318311e-05j, -4.0064808e-03-6.18691929e-03j,\n",
       "          -1.6945073e-03+5.59901958e-03j, ...,\n",
       "          -6.6411160e-03+3.28043971e-04j, -3.5959254e-03+4.56414360e-04j,\n",
       "          -1.9636691e-04-3.66896181e-03j]]], dtype=complex64)}"
      ]
     },
     "execution_count": 9,
     "metadata": {},
     "output_type": "execute_result"
    }
   ],
   "source": [
    "data"
   ]
  },
  {
   "cell_type": "code",
   "execution_count": 8,
   "id": "fcdccfde-6d6b-40e2-92a9-e23db0150ea6",
   "metadata": {},
   "outputs": [
    {
     "ename": "ValueError",
     "evalue": "shape mismatch: objects cannot be broadcast to a single shape.  Mismatch is between arg 0 with shape (3,) and arg 1 with shape (6,).",
     "output_type": "error",
     "traceback": [
      "\u001b[0;31m---------------------------------------------------------------------------\u001b[0m",
      "\u001b[0;31mValueError\u001b[0m                                Traceback (most recent call last)",
      "Cell \u001b[0;32mIn[8], line 8\u001b[0m\n\u001b[1;32m      4\u001b[0m bar_labels \u001b[38;5;241m=\u001b[39m [\u001b[38;5;124m\"\u001b[39m\u001b[38;5;124mcpy-cc\u001b[39m\u001b[38;5;124m\"\u001b[39m, \u001b[38;5;124m\"\u001b[39m\u001b[38;5;124mcio\u001b[39m\u001b[38;5;124m\"\u001b[39m, \u001b[38;5;124m\"\u001b[39m\u001b[38;5;124mcio-cached\u001b[39m\u001b[38;5;124m\"\u001b[39m]\n\u001b[1;32m      5\u001b[0m bar_colors \u001b[38;5;241m=\u001b[39m [\u001b[38;5;124m\"\u001b[39m\u001b[38;5;124mtab:red\u001b[39m\u001b[38;5;124m\"\u001b[39m, \u001b[38;5;124m\"\u001b[39m\u001b[38;5;124mtab:blue\u001b[39m\u001b[38;5;124m\"\u001b[39m, \u001b[38;5;124m\"\u001b[39m\u001b[38;5;124mtab:orange\u001b[39m\u001b[38;5;124m\"\u001b[39m]\n\u001b[0;32m----> 8\u001b[0m \u001b[43max\u001b[49m\u001b[38;5;241;43m.\u001b[39;49m\u001b[43mbar\u001b[49m\u001b[43m(\u001b[49m\u001b[43mlabels\u001b[49m\u001b[43m,\u001b[49m\u001b[43m \u001b[49m\u001b[43mtimes\u001b[49m\u001b[43m,\u001b[49m\u001b[43m \u001b[49m\u001b[43mlabel\u001b[49m\u001b[38;5;241;43m=\u001b[39;49m\u001b[43mbar_labels\u001b[49m\u001b[43m,\u001b[49m\u001b[43m \u001b[49m\u001b[43mcolor\u001b[49m\u001b[38;5;241;43m=\u001b[39;49m\u001b[43mbar_colors\u001b[49m\u001b[43m)\u001b[49m\n\u001b[1;32m     10\u001b[0m ax\u001b[38;5;241m.\u001b[39mset_ylabel(\u001b[38;5;124m'\u001b[39m\u001b[38;5;124mExecution Time (s)\u001b[39m\u001b[38;5;124m'\u001b[39m)\n\u001b[1;32m     11\u001b[0m ax\u001b[38;5;241m.\u001b[39mset_title(\u001b[38;5;124m'\u001b[39m\u001b[38;5;124mComparison of DATA column query times\u001b[39m\u001b[38;5;124m'\u001b[39m)\n",
      "File \u001b[0;32m~/miniconda3/envs/casaio/lib/python3.10/site-packages/matplotlib/__init__.py:1521\u001b[0m, in \u001b[0;36m_preprocess_data.<locals>.inner\u001b[0;34m(ax, data, *args, **kwargs)\u001b[0m\n\u001b[1;32m   1518\u001b[0m \u001b[38;5;129m@functools\u001b[39m\u001b[38;5;241m.\u001b[39mwraps(func)\n\u001b[1;32m   1519\u001b[0m \u001b[38;5;28;01mdef\u001b[39;00m\u001b[38;5;250m \u001b[39m\u001b[38;5;21minner\u001b[39m(ax, \u001b[38;5;241m*\u001b[39margs, data\u001b[38;5;241m=\u001b[39m\u001b[38;5;28;01mNone\u001b[39;00m, \u001b[38;5;241m*\u001b[39m\u001b[38;5;241m*\u001b[39mkwargs):\n\u001b[1;32m   1520\u001b[0m     \u001b[38;5;28;01mif\u001b[39;00m data \u001b[38;5;129;01mis\u001b[39;00m \u001b[38;5;28;01mNone\u001b[39;00m:\n\u001b[0;32m-> 1521\u001b[0m         \u001b[38;5;28;01mreturn\u001b[39;00m \u001b[43mfunc\u001b[49m\u001b[43m(\u001b[49m\n\u001b[1;32m   1522\u001b[0m \u001b[43m            \u001b[49m\u001b[43max\u001b[49m\u001b[43m,\u001b[49m\n\u001b[1;32m   1523\u001b[0m \u001b[43m            \u001b[49m\u001b[38;5;241;43m*\u001b[39;49m\u001b[38;5;28;43mmap\u001b[39;49m\u001b[43m(\u001b[49m\u001b[43mcbook\u001b[49m\u001b[38;5;241;43m.\u001b[39;49m\u001b[43msanitize_sequence\u001b[49m\u001b[43m,\u001b[49m\u001b[43m \u001b[49m\u001b[43margs\u001b[49m\u001b[43m)\u001b[49m\u001b[43m,\u001b[49m\n\u001b[1;32m   1524\u001b[0m \u001b[43m            \u001b[49m\u001b[38;5;241;43m*\u001b[39;49m\u001b[38;5;241;43m*\u001b[39;49m\u001b[43m{\u001b[49m\u001b[43mk\u001b[49m\u001b[43m:\u001b[49m\u001b[43m \u001b[49m\u001b[43mcbook\u001b[49m\u001b[38;5;241;43m.\u001b[39;49m\u001b[43msanitize_sequence\u001b[49m\u001b[43m(\u001b[49m\u001b[43mv\u001b[49m\u001b[43m)\u001b[49m\u001b[43m \u001b[49m\u001b[38;5;28;43;01mfor\u001b[39;49;00m\u001b[43m \u001b[49m\u001b[43mk\u001b[49m\u001b[43m,\u001b[49m\u001b[43m \u001b[49m\u001b[43mv\u001b[49m\u001b[43m \u001b[49m\u001b[38;5;129;43;01min\u001b[39;49;00m\u001b[43m \u001b[49m\u001b[43mkwargs\u001b[49m\u001b[38;5;241;43m.\u001b[39;49m\u001b[43mitems\u001b[49m\u001b[43m(\u001b[49m\u001b[43m)\u001b[49m\u001b[43m}\u001b[49m\u001b[43m)\u001b[49m\n\u001b[1;32m   1526\u001b[0m     bound \u001b[38;5;241m=\u001b[39m new_sig\u001b[38;5;241m.\u001b[39mbind(ax, \u001b[38;5;241m*\u001b[39margs, \u001b[38;5;241m*\u001b[39m\u001b[38;5;241m*\u001b[39mkwargs)\n\u001b[1;32m   1527\u001b[0m     auto_label \u001b[38;5;241m=\u001b[39m (bound\u001b[38;5;241m.\u001b[39marguments\u001b[38;5;241m.\u001b[39mget(label_namer)\n\u001b[1;32m   1528\u001b[0m                   \u001b[38;5;129;01mor\u001b[39;00m bound\u001b[38;5;241m.\u001b[39mkwargs\u001b[38;5;241m.\u001b[39mget(label_namer))\n",
      "File \u001b[0;32m~/miniconda3/envs/casaio/lib/python3.10/site-packages/matplotlib/axes/_axes.py:2583\u001b[0m, in \u001b[0;36mAxes.bar\u001b[0;34m(self, x, height, width, bottom, align, **kwargs)\u001b[0m\n\u001b[1;32m   2580\u001b[0m     \u001b[38;5;28;01mif\u001b[39;00m yerr \u001b[38;5;129;01mis\u001b[39;00m \u001b[38;5;129;01mnot\u001b[39;00m \u001b[38;5;28;01mNone\u001b[39;00m:\n\u001b[1;32m   2581\u001b[0m         yerr \u001b[38;5;241m=\u001b[39m \u001b[38;5;28mself\u001b[39m\u001b[38;5;241m.\u001b[39m_convert_dx(yerr, y0, y, \u001b[38;5;28mself\u001b[39m\u001b[38;5;241m.\u001b[39mconvert_yunits)\n\u001b[0;32m-> 2583\u001b[0m x, height, width, y, linewidth, hatch \u001b[38;5;241m=\u001b[39m \u001b[43mnp\u001b[49m\u001b[38;5;241;43m.\u001b[39;49m\u001b[43mbroadcast_arrays\u001b[49m\u001b[43m(\u001b[49m\n\u001b[1;32m   2584\u001b[0m \u001b[43m    \u001b[49m\u001b[38;5;66;43;03m# Make args iterable too.\u001b[39;49;00m\n\u001b[1;32m   2585\u001b[0m \u001b[43m    \u001b[49m\u001b[43mnp\u001b[49m\u001b[38;5;241;43m.\u001b[39;49m\u001b[43matleast_1d\u001b[49m\u001b[43m(\u001b[49m\u001b[43mx\u001b[49m\u001b[43m)\u001b[49m\u001b[43m,\u001b[49m\u001b[43m \u001b[49m\u001b[43mheight\u001b[49m\u001b[43m,\u001b[49m\u001b[43m \u001b[49m\u001b[43mwidth\u001b[49m\u001b[43m,\u001b[49m\u001b[43m \u001b[49m\u001b[43my\u001b[49m\u001b[43m,\u001b[49m\u001b[43m \u001b[49m\u001b[43mlinewidth\u001b[49m\u001b[43m,\u001b[49m\u001b[43m \u001b[49m\u001b[43mhatch\u001b[49m\u001b[43m)\u001b[49m\n\u001b[1;32m   2587\u001b[0m \u001b[38;5;66;03m# Now that units have been converted, set the tick locations.\u001b[39;00m\n\u001b[1;32m   2588\u001b[0m \u001b[38;5;28;01mif\u001b[39;00m orientation \u001b[38;5;241m==\u001b[39m \u001b[38;5;124m'\u001b[39m\u001b[38;5;124mvertical\u001b[39m\u001b[38;5;124m'\u001b[39m:\n",
      "File \u001b[0;32m~/miniconda3/envs/casaio/lib/python3.10/site-packages/numpy/lib/_stride_tricks_impl.py:558\u001b[0m, in \u001b[0;36mbroadcast_arrays\u001b[0;34m(subok, *args)\u001b[0m\n\u001b[1;32m    551\u001b[0m \u001b[38;5;66;03m# nditer is not used here to avoid the limit of 32 arrays.\u001b[39;00m\n\u001b[1;32m    552\u001b[0m \u001b[38;5;66;03m# Otherwise, something like the following one-liner would suffice:\u001b[39;00m\n\u001b[1;32m    553\u001b[0m \u001b[38;5;66;03m# return np.nditer(args, flags=['multi_index', 'zerosize_ok'],\u001b[39;00m\n\u001b[1;32m    554\u001b[0m \u001b[38;5;66;03m#                  order='C').itviews\u001b[39;00m\n\u001b[1;32m    556\u001b[0m args \u001b[38;5;241m=\u001b[39m [np\u001b[38;5;241m.\u001b[39marray(_m, copy\u001b[38;5;241m=\u001b[39m\u001b[38;5;28;01mNone\u001b[39;00m, subok\u001b[38;5;241m=\u001b[39msubok) \u001b[38;5;28;01mfor\u001b[39;00m _m \u001b[38;5;129;01min\u001b[39;00m args]\n\u001b[0;32m--> 558\u001b[0m shape \u001b[38;5;241m=\u001b[39m \u001b[43m_broadcast_shape\u001b[49m\u001b[43m(\u001b[49m\u001b[38;5;241;43m*\u001b[39;49m\u001b[43margs\u001b[49m\u001b[43m)\u001b[49m\n\u001b[1;32m    560\u001b[0m result \u001b[38;5;241m=\u001b[39m [array \u001b[38;5;28;01mif\u001b[39;00m array\u001b[38;5;241m.\u001b[39mshape \u001b[38;5;241m==\u001b[39m shape\n\u001b[1;32m    561\u001b[0m           \u001b[38;5;28;01melse\u001b[39;00m _broadcast_to(array, shape, subok\u001b[38;5;241m=\u001b[39msubok, readonly\u001b[38;5;241m=\u001b[39m\u001b[38;5;28;01mFalse\u001b[39;00m)\n\u001b[1;32m    562\u001b[0m                           \u001b[38;5;28;01mfor\u001b[39;00m array \u001b[38;5;129;01min\u001b[39;00m args]\n\u001b[1;32m    563\u001b[0m \u001b[38;5;28;01mreturn\u001b[39;00m \u001b[38;5;28mtuple\u001b[39m(result)\n",
      "File \u001b[0;32m~/miniconda3/envs/casaio/lib/python3.10/site-packages/numpy/lib/_stride_tricks_impl.py:433\u001b[0m, in \u001b[0;36m_broadcast_shape\u001b[0;34m(*args)\u001b[0m\n\u001b[1;32m    428\u001b[0m \u001b[38;5;250m\u001b[39m\u001b[38;5;124;03m\"\"\"Returns the shape of the arrays that would result from broadcasting the\u001b[39;00m\n\u001b[1;32m    429\u001b[0m \u001b[38;5;124;03msupplied arrays against each other.\u001b[39;00m\n\u001b[1;32m    430\u001b[0m \u001b[38;5;124;03m\"\"\"\u001b[39;00m\n\u001b[1;32m    431\u001b[0m \u001b[38;5;66;03m# use the old-iterator because np.nditer does not handle size 0 arrays\u001b[39;00m\n\u001b[1;32m    432\u001b[0m \u001b[38;5;66;03m# consistently\u001b[39;00m\n\u001b[0;32m--> 433\u001b[0m b \u001b[38;5;241m=\u001b[39m \u001b[43mnp\u001b[49m\u001b[38;5;241;43m.\u001b[39;49m\u001b[43mbroadcast\u001b[49m\u001b[43m(\u001b[49m\u001b[38;5;241;43m*\u001b[39;49m\u001b[43margs\u001b[49m\u001b[43m[\u001b[49m\u001b[43m:\u001b[49m\u001b[38;5;241;43m32\u001b[39;49m\u001b[43m]\u001b[49m\u001b[43m)\u001b[49m\n\u001b[1;32m    434\u001b[0m \u001b[38;5;66;03m# unfortunately, it cannot handle 32 or more arguments directly\u001b[39;00m\n\u001b[1;32m    435\u001b[0m \u001b[38;5;28;01mfor\u001b[39;00m pos \u001b[38;5;129;01min\u001b[39;00m \u001b[38;5;28mrange\u001b[39m(\u001b[38;5;241m32\u001b[39m, \u001b[38;5;28mlen\u001b[39m(args), \u001b[38;5;241m31\u001b[39m):\n\u001b[1;32m    436\u001b[0m     \u001b[38;5;66;03m# ironically, np.broadcast does not properly handle np.broadcast\u001b[39;00m\n\u001b[1;32m    437\u001b[0m     \u001b[38;5;66;03m# objects (it treats them as scalars)\u001b[39;00m\n\u001b[1;32m    438\u001b[0m     \u001b[38;5;66;03m# use broadcasting to avoid allocating the full array\u001b[39;00m\n",
      "\u001b[0;31mValueError\u001b[0m: shape mismatch: objects cannot be broadcast to a single shape.  Mismatch is between arg 0 with shape (3,) and arg 1 with shape (6,)."
     ]
    },
    {
     "data": {
      "image/png": "[encoded data removed]",
      "text/plain": [
       "<Figure size 640x480 with 1 Axes>"
      ]
     },
     "metadata": {},
     "output_type": "display_data"
    }
   ],
   "source": [
    "fig, ax = plt.subplots()\n",
    "\n",
    "labels = [\"python-casacore\", \"casaio\", \"casaio-cached\"]\n",
    "bar_labels = [\"cpy-cc\", \"cio\", \"cio-cached\"]\n",
    "bar_colors = [\"tab:red\", \"tab:blue\", \"tab:orange\"]\n",
    "\n",
    "\n",
    "ax.bar(labels, times, label=bar_labels, color=bar_colors)\n",
    "\n",
    "ax.set_ylabel('Execution Time (s)')\n",
    "ax.set_title('Comparison of DATA column query times')\n",
    "\n",
    "plt.show()"
   ]
  },
  {
   "cell_type": "code",
   "execution_count": null,
   "id": "f449f914-16ce-4170-8df0-139fbac5c930",
   "metadata": {},
   "outputs": [],
   "source": []
  }
 ],
 "metadata": {
  "kernelspec": {
   "display_name": "Python 3 (ipykernel)",
   "language": "python",
   "name": "python3"
  },
  "language_info": {
   "codemirror_mode": {
    "name": "ipython",
    "version": 3
   },
   "file_extension": ".py",
   "mimetype": "text/x-python",
   "name": "python",
   "nbconvert_exporter": "python",
   "pygments_lexer": "ipython3",
   "version": "3.10.15"
  }
 },
 "nbformat": 4,
 "nbformat_minor": 5
}
