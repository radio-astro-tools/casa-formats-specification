{
 "cells": [
  {
   "cell_type": "code",
   "execution_count": 1,
   "id": "87e803be-c2e1-42b8-ba40-77a523e216ae",
   "metadata": {},
   "outputs": [],
   "source": [
    "import time\n",
    "import toolviper\n",
    "\n",
    "import numpy as np\n",
    "import matplotlib.pyplot as plt\n",
    "\n",
    "from casaio.io.table import Table\n",
    "from casacore.tables import table"
   ]
  },
  {
   "cell_type": "code",
   "execution_count": 2,
   "id": "83d3f32d-e22b-4bec-bef2-cc1efcdc328e",
   "metadata": {},
   "outputs": [
    {
     "name": "stdout",
     "output_type": "stream",
     "text": [
      "[\u001b[38;2;128;05;128m2025-04-25 19:24:04,004\u001b[0m] \u001b[38;2;255;160;0m WARNING\u001b[0m\u001b[38;2;112;128;144m    viperlog: \u001b[0m File exists: \u001b[38;2;50;50;205m/home/mystletainn/miniconda3/envs/casaio/lib/python3.10/site-packages/toolviper/utils/data/.dropbox\u001b[0m \n",
      "[\u001b[38;2;128;05;128m2025-04-25 19:24:04,005\u001b[0m] \u001b[38;2;50;50;205m    INFO\u001b[0m\u001b[38;2;112;128;144m    viperlog: \u001b[0m Updating file metadata information ...  \n",
      " "
     ]
    },
    {
     "data": {
      "text/html": [
       "<pre style=\"white-space:pre;overflow-x:auto;line-height:normal;font-family:Menlo,'DejaVu Sans Mono',consolas,'Courier New',monospace\">                                                                \n",
       " <span style=\"font-weight: bold\"> Download List                                                </span> \n",
       " ────────────────────────────────────────────────────────────── \n",
       "  <span style=\"color: #800080; text-decoration-color: #800080\">VLASS3.2.sb45755730.eb46170641.60480.16266136574.split.v6.ms</span>  \n",
       "                                                                \n",
       "</pre>\n"
      ],
      "text/plain": [
       "                                                                \n",
       " \u001b[1m \u001b[0m\u001b[1mDownload List                                               \u001b[0m\u001b[1m \u001b[0m \n",
       " ────────────────────────────────────────────────────────────── \n",
       "  \u001b[35mVLASS3.2.sb45755730.eb46170641.60480.16266136574.split.v6.ms\u001b[0m  \n",
       "                                                                \n"
      ]
     },
     "metadata": {},
     "output_type": "display_data"
    },
    {
     "name": "stdout",
     "output_type": "stream",
     "text": [
      "[\u001b[38;2;128;05;128m2025-04-25 19:24:04,855\u001b[0m] \u001b[38;2;50;50;205m    INFO\u001b[0m\u001b[38;2;112;128;144m    viperlog: \u001b[0m File exists: data/VLASS3.2.sb45755730.eb46170641.60480.16266136574.split.v6.ms \n"
     ]
    }
   ],
   "source": [
    "toolviper.utils.data.download(file=\"VLASS3.2.sb45755730.eb46170641.60480.16266136574.split.v6.ms\", folder=\"data\")"
   ]
  },
  {
   "cell_type": "code",
   "execution_count": 3,
   "id": "b5e66b24-30c7-4fb4-a211-36836d4b8eb5",
   "metadata": {},
   "outputs": [
    {
     "name": "stdout",
     "output_type": "stream",
     "text": [
      "Successful readonly open of default-locked table data/VLASS3.2.sb45755730.eb46170641.60480.16266136574.split.v6.ms: 22 columns, 294144 rows\n",
      "Time to load full table: 0.0016138553619384766\n"
     ]
    }
   ],
   "source": [
    "times = []\n",
    "\n",
    "start_time = time.time()\n",
    "\n",
    "ctable = table(\"data/VLASS3.2.sb45755730.eb46170641.60480.16266136574.split.v6.ms\")\n",
    "c = ctable.col(\"DATA\")\n",
    "\n",
    "times.append(time.time() - start_time)\n",
    "print(f\"Time to load full table: {times[0]}\")"
   ]
  },
  {
   "cell_type": "code",
   "execution_count": 4,
   "id": "256d7958-5181-4745-aa3d-158dc512532e",
   "metadata": {},
   "outputs": [
    {
     "name": "stdout",
     "output_type": "stream",
     "text": [
      "Time to load full table: 0.006041746139526367\n"
     ]
    }
   ],
   "source": [
    "time_array = []\n",
    "\n",
    "for _ in range(100):\n",
    "    start_time = time.time()\n",
    "    \n",
    "    table = Table(basename=\"data/VLASS3.2.sb45755730.eb46170641.60480.16266136574.split.v6.ms\")\n",
    "    data = table.get_column(name=\"DATA\")\n",
    "\n",
    "    time_array.append(time.time() - start_time)\n",
    "\n",
    "times.append(np.array(time_array).mean())\n",
    "print(f\"Time to load full table: {times[1]}\")"
   ]
  },
  {
   "cell_type": "code",
   "execution_count": 5,
   "id": "0b769116-353a-49bd-b14e-0badc036641f",
   "metadata": {},
   "outputs": [
    {
     "name": "stdout",
     "output_type": "stream",
     "text": [
      "Time to load cached column: 0.004186620712280273\n"
     ]
    }
   ],
   "source": [
    "time_array = []\n",
    "\n",
    "for i in range(100):\n",
    "    start_time = time.time()\n",
    "\n",
    "    data = table.get_column(name=\"DATA\")\n",
    "\n",
    "    time_array.append(time.time() - start_time)\n",
    "\n",
    "times.append(np.array(time_array).mean())\n",
    "print(f\"Time to load cached column: {times[2]}\")"
   ]
  },
  {
   "cell_type": "code",
   "execution_count": 7,
   "id": "fcdccfde-6d6b-40e2-92a9-e23db0150ea6",
   "metadata": {},
   "outputs": [
    {
     "data": {
      "image/png": "[encoded data removed]",
      "text/plain": [
       "<Figure size 640x480 with 1 Axes>"
      ]
     },
     "metadata": {},
     "output_type": "display_data"
    }
   ],
   "source": [
    "fig, ax = plt.subplots()\n",
    "\n",
    "labels = [\"python-casacore\", \"casaio\", \"casaio-cached\"]\n",
    "bar_labels = [\"cpy-cc\", \"cio\", \"cio-cached\"]\n",
    "bar_colors = [\"tab:red\", \"tab:blue\", \"tab:orange\"]\n",
    "\n",
    "\n",
    "ax.bar(labels, times, label=bar_labels, color=bar_colors)\n",
    "\n",
    "ax.set_ylabel('Execution Time (s)')\n",
    "ax.set_title('Comparison of DATA column query times')\n",
    "\n",
    "plt.show()\n",
    "\n",
    "plt.show()"
   ]
  },
  {
   "cell_type": "code",
   "execution_count": null,
   "id": "ea743ddf-745e-4f2a-aecf-307afc6491ad",
   "metadata": {},
   "outputs": [],
   "source": [
    "np.stack([]"
   ]
  }
 ],
 "metadata": {
  "kernelspec": {
   "display_name": "Python 3 (ipykernel)",
   "language": "python",
   "name": "python3"
  },
  "language_info": {
   "codemirror_mode": {
    "name": "ipython",
    "version": 3
   },
   "file_extension": ".py",
   "mimetype": "text/x-python",
   "name": "python",
   "nbconvert_exporter": "python",
   "pygments_lexer": "ipython3",
   "version": "3.10.15"
  }
 },
 "nbformat": 4,
 "nbformat_minor": 5
}
