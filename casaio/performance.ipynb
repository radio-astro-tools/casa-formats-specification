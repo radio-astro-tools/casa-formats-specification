{
 "cells": [
  {
   "cell_type": "code",
   "execution_count": 1,
   "id": "87e803be-c2e1-42b8-ba40-77a523e216ae",
   "metadata": {
    "ExecuteTime": {
     "end_time": "2025-05-20T21:44:59.117697Z",
     "start_time": "2025-05-20T21:44:58.389033Z"
    }
   },
   "outputs": [],
   "source": [
    "import time\n",
    "import toolviper\n",
    "\n",
    "import numpy as np\n",
    "import matplotlib.pyplot as plt\n",
    "\n",
    "from casaio.io.table import Table\n",
    "from casacore.tables import table"
   ]
  },
  {
   "cell_type": "code",
   "execution_count": null,
   "id": "83d3f32d-e22b-4bec-bef2-cc1efcdc328e",
   "metadata": {},
   "outputs": [],
   "source": [
    "toolviper.utils.data.download(file=\"VLASS3.2.sb45755730.eb46170641.60480.16266136574.split.v6.ms\", folder=\"data\")"
   ]
  },
  {
   "cell_type": "code",
   "execution_count": 2,
   "id": "323a8841de81c65f",
   "metadata": {
    "ExecuteTime": {
     "end_time": "2025-05-20T21:45:01.125022Z",
     "start_time": "2025-05-20T21:45:01.119935Z"
    }
   },
   "outputs": [],
   "source": [
    "times = []"
   ]
  },
  {
   "cell_type": "code",
   "execution_count": null,
   "id": "b5e66b24-30c7-4fb4-a211-36836d4b8eb5",
   "metadata": {},
   "outputs": [],
   "source": [
    "start_time = time.time()\n",
    "\n",
    "ctable = table(\"data/VLASS3.2.sb45755730.eb46170641.60480.16266136574.split.v6.ms\")\n",
    "c = ctable.col(\"DATA\")\n",
    "\n",
    "times.append(time.time() - start_time)\n",
    "print(f\"Time to load full table: {times[0]}\")"
   ]
  },
  {
   "cell_type": "code",
   "execution_count": 3,
   "id": "256d7958-5181-4745-aa3d-158dc512532e",
   "metadata": {
    "ExecuteTime": {
     "end_time": "2025-05-20T21:49:46.514119Z",
     "start_time": "2025-05-20T21:49:46.503121Z"
    }
   },
   "outputs": [],
   "source": [
    "time_array = []\n",
    "\n",
    "for _ in range(1):\n",
    "    start_time = time.time()\n",
    "    \n",
    "    table = Table(basename=\"data/VLASS3.2.sb45755730.eb46170641.60480.16266136574.split.v6.ms\")\n",
    "    #data = table.get_column(name=\"DATA_DESC_ID\")\n",
    "    data = table.get_column(name=\"UVW\")\n",
    "\n",
    "    time_array.append(time.time() - start_time)\n",
    "\n",
    "times.append(np.array(time_array).mean())\n",
    "#print(f\"Time to load full table: {times[1]}\")"
   ]
  },
  {
   "cell_type": "code",
   "execution_count": 4,
   "id": "509884fb-542c-485a-9e27-2f695c20307c",
   "metadata": {},
   "outputs": [
    {
     "name": "stdout",
     "output_type": "stream",
     "text": [
      "╒════════════════════╤════════╤══════════════════════════════╕\n",
      "│ name               │   type │ comment                      │\n",
      "╞════════════════════╪════════╪══════════════════════════════╡\n",
      "│ MS_VERSION         │      7 │ MS version number, i.e., 2.0 │\n",
      "│ ANTENNA            │     12 │                              │\n",
      "│ DATA_DESCRIPTION   │     12 │                              │\n",
      "│ FEED               │     12 │                              │\n",
      "│ FLAG_CMD           │     12 │                              │\n",
      "│ FIELD              │     12 │                              │\n",
      "│ HISTORY            │     12 │                              │\n",
      "│ OBSERVATION        │     12 │                              │\n",
      "│ POLARIZATION       │     12 │                              │\n",
      "│ PROCESSOR          │     12 │                              │\n",
      "│ SPECTRAL_WINDOW    │     12 │                              │\n",
      "│ STATE              │     12 │                              │\n",
      "│ SOURCE             │     12 │                              │\n",
      "│ POINTING           │     12 │                              │\n",
      "│ WEATHER            │     12 │                              │\n",
      "│ CALDEVICE          │     12 │                              │\n",
      "│ SYSPOWER           │     12 │                              │\n",
      "│ SYSCAL             │     12 │                              │\n",
      "│ ASDM_CALATMOSPHERE │     12 │                              │\n",
      "│ ASDM_RECEIVER      │     12 │                              │\n",
      "╘════════════════════╧════════╧══════════════════════════════╛\n"
     ]
    }
   ],
   "source": [
    "#table.get_column_description(view=True)\n",
    "table.get_keywords()"
   ]
  },
  {
   "cell_type": "code",
   "execution_count": null,
   "id": "0b769116-353a-49bd-b14e-0badc036641f",
   "metadata": {},
   "outputs": [],
   "source": [
    "time_array = []\n",
    "\n",
    "for i in range(100):\n",
    "    start_time = time.time()\n",
    "\n",
    "    data = table.get_column(name=\"DATA\")\n",
    "\n",
    "    time_array.append(time.time() - start_time)\n",
    "\n",
    "times.append(np.array(time_array).mean())\n",
    "print(f\"Time to load cached column: {times[2]}\")"
   ]
  },
  {
   "cell_type": "code",
   "execution_count": null,
   "id": "fcdccfde-6d6b-40e2-92a9-e23db0150ea6",
   "metadata": {},
   "outputs": [],
   "source": [
    "fig, ax = plt.subplots()\n",
    "\n",
    "labels = [\"python-casacore\", \"casaio\", \"casaio-cached\"]\n",
    "bar_labels = [\"cpy-cc\", \"cio\", \"cio-cached\"]\n",
    "bar_colors = [\"tab:red\", \"tab:blue\", \"tab:orange\"]\n",
    "\n",
    "\n",
    "ax.bar(labels, times, label=bar_labels, color=bar_colors)\n",
    "\n",
    "ax.set_ylabel('Execution Time (s)')\n",
    "ax.set_title('Comparison of DATA column query times')\n",
    "\n",
    "plt.show()"
   ]
  },
  {
   "cell_type": "code",
   "execution_count": null,
   "id": "f449f914-16ce-4170-8df0-139fbac5c930",
   "metadata": {},
   "outputs": [],
   "source": [
    "table = Table(basename=\"data/VLASS3.2.sb45755730.eb46170641.60480.16266136574.split.v6.ms\")\n",
    "data = table.get_column(name=\"FLAG\")"
   ]
  }
 ],
 "metadata": {
  "kernelspec": {
   "display_name": "Python 3 (ipykernel)",
   "language": "python",
   "name": "python3"
  },
  "language_info": {
   "codemirror_mode": {
    "name": "ipython",
    "version": 3
   },
   "file_extension": ".py",
   "mimetype": "text/x-python",
   "name": "python",
   "nbconvert_exporter": "python",
   "pygments_lexer": "ipython3",
   "version": "3.10.15"
  }
 },
 "nbformat": 4,
 "nbformat_minor": 5
}
